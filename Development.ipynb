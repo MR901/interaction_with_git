{
 "cells": [
  {
   "cell_type": "markdown",
   "metadata": {},
   "source": [
    "## Importing Packages"
   ]
  },
  {
   "cell_type": "code",
   "execution_count": 1,
   "metadata": {},
   "outputs": [],
   "source": [
    "## Importing Packages\n",
    "import subprocess as sp\n",
    "import os, sys\n",
    "import shutil"
   ]
  },
  {
   "cell_type": "markdown",
   "metadata": {},
   "source": [
    "## Executing terminal command in terminal from python"
   ]
  },
  {
   "cell_type": "code",
   "execution_count": 2,
   "metadata": {},
   "outputs": [
    {
     "name": "stdout",
     "output_type": "stream",
     "text": [
      "\n",
      "Executing Command \"ls -lsha\"\n",
      "Command sucessfully executed\n",
      "Output:\n",
      "----------------------------------------------------------------------------------------------------\n",
      "|\ttotal 48K\n",
      "|\t4.0K drwxrwxr-x  4 ubuntu ubuntu 4.0K Jun 18 14:55 .\n",
      "|\t4.0K drwxr-xr-x 32 ubuntu ubuntu 4.0K Jun 18 14:39 ..\n",
      "|\t 24K -rwxrwxrwx  1 ubuntu ubuntu  22K Jun 18 14:55 Development.ipynb\n",
      "|\t4.0K drwxrwxr-x  8 ubuntu ubuntu 4.0K Jun 18 14:39 .git\n",
      "|\t4.0K drwxrwxr-x  2 ubuntu ubuntu 4.0K Jun 18 14:42 .ipynb_checkpoints\n",
      "|\t4.0K -rw-rw-r--  1 ubuntu ubuntu   69 Jun 18 14:39 README.md\n",
      "|\t4.0K -rwxrwxrwx  1 ubuntu ubuntu  126 Jun 18 14:41 repo_link_input.txt\n",
      "|\t\n",
      "----------------------------------------------------------------------------------------------------\n",
      "\n",
      "Executing Command \"cd ..\"\n",
      "--------------------------------------------------\n",
      "Exception: [Errno 2] No such file or directory: 'cd': 'cd'\n",
      "Unexpected error: <class 'FileNotFoundError'>\n",
      "--------------------------------------------------\n",
      "\n",
      "\n",
      "Executing Command \"ls -lsha\"\n",
      "Command sucessfully executed\n",
      "Output:\n",
      "----------------------------------------------------------------------------------------------------\n",
      "|\ttotal 48K\n",
      "|\t4.0K drwxrwxr-x  4 ubuntu ubuntu 4.0K Jun 18 14:55 .\n",
      "|\t4.0K drwxr-xr-x 32 ubuntu ubuntu 4.0K Jun 18 14:39 ..\n",
      "|\t 24K -rwxrwxrwx  1 ubuntu ubuntu  22K Jun 18 14:55 Development.ipynb\n",
      "|\t4.0K drwxrwxr-x  8 ubuntu ubuntu 4.0K Jun 18 14:39 .git\n",
      "|\t4.0K drwxrwxr-x  2 ubuntu ubuntu 4.0K Jun 18 14:42 .ipynb_checkpoints\n",
      "|\t4.0K -rw-rw-r--  1 ubuntu ubuntu   69 Jun 18 14:39 README.md\n",
      "|\t4.0K -rwxrwxrwx  1 ubuntu ubuntu  126 Jun 18 14:41 repo_link_input.txt\n",
      "|\t\n",
      "----------------------------------------------------------------------------------------------------\n"
     ]
    }
   ],
   "source": [
    "### Executing terminal command in terminal from python\n",
    "\n",
    "def execute_command(exec_command, msg=True):\n",
    "    '''\n",
    "    To Execute Command in terminal\n",
    "        Input: 'ls -lsha'\n",
    "        Transformation: ['ls', '-lsha']\n",
    "        Output: Output of the command, and process completion in terminal\n",
    "    \n",
    "    subprocess.run(args, *, stdin=None, input=None, stdout=None, stderr=None, \n",
    "                shell=False, cwd=None, timeout=None, check=False, encoding=None, \n",
    "                errors=None, env=None)\n",
    "    '''\n",
    "    \n",
    "    if msg is True: print('\\nExecuting Command \"{}\"'.format(exec_command))\n",
    "    try:\n",
    "        exec_ter = sp.run(exec_command.split(' '), stdout=sp.PIPE, stderr=sp.PIPE)\n",
    "        task_status = 'Completed' if exec_ter.returncode == 0 else 'CalledProcessError' \n",
    "        if msg is True: print('Command ' + ('sucessfully executed' if task_status == 'Completed' else 'failed to be executed'))\n",
    "        txt_enc = exec_ter.stdout\n",
    "        exec_msg = txt_enc.decode('ascii')\n",
    "        if (msg is True) & (len(exec_msg)>0):print('Output:\\n'+'-'*100+'\\n|\\t'+exec_msg.replace('\\n','\\n|\\t')+'\\n'+'-'*100)\n",
    "        if task_status  is 'Completed':\n",
    "            return exec_msg\n",
    "        else:\n",
    "            return 'TaskFailed'\n",
    "    \n",
    "    except Exception as e:\n",
    "        print('-'*50)\n",
    "        print(\"Exception: {}\".format(e))#e.errno, e.strerror))\n",
    "        print(\"Unexpected error:\", sys.exc_info()[0])\n",
    "        print('-'*50+'\\n')\n",
    "        return 'TaskFailed'\n",
    "\n",
    "trial_command_to_exec = [\n",
    "    'ls -lsha', \n",
    "    'cd ..', ## will have an error\n",
    "    'ls -lsha'\n",
    "]\n",
    "\n",
    "for command in trial_command_to_exec:\n",
    "    execute_command(command)\n",
    "    "
   ]
  },
  {
   "cell_type": "markdown",
   "metadata": {},
   "source": [
    "## To convert Git Clone command such that password can also be fed directly"
   ]
  },
  {
   "cell_type": "code",
   "execution_count": 3,
   "metadata": {},
   "outputs": [
    {
     "data": {
      "text/plain": [
       "'git clone https://github.com/MR901/AIMA_AdversarialSearch.git'"
      ]
     },
     "execution_count": 3,
     "metadata": {},
     "output_type": "execute_result"
    }
   ],
   "source": [
    "''' ## Feeding Password with the username in the git ## Also encoding password\n",
    "https://stackoverflow.com/questions/10054318/how-do-i-provide-a-username-and-password-when-running-git-clone-gitremote-git/55721882#55721882\n",
    "'''\n",
    "\n",
    "git_username = 'username'\n",
    "git_passsword = 'password'\n",
    "\n",
    "\n",
    "# https://www.urlencoder.org/\n",
    "special_char_dict = {\n",
    "    '%':'%25', ## caution with this\n",
    "    '.':'.',\n",
    "    '+':'%2B',\n",
    "    '@':'%40',\n",
    "    '#':'%23',\n",
    "    '!':'%21',\n",
    "    '$':'%24',\n",
    "    '^':'%5E',\n",
    "    '&':'%26',\n",
    "    '*':'%2A',\n",
    "    '_':'_',\n",
    "    '-':'-'    \n",
    "}\n",
    "upd_user = ''.join([ special_char_dict[char] if char in special_char_dict else char for char in git_username ])\n",
    "upd_pass = ''.join([ special_char_dict[char] if char in special_char_dict else char for char in git_passsword ])\n",
    "\n",
    "sample_cmd = 'git clone https://github.com/MR901/AIMA_AdversarialSearch.git'\n",
    "sample_cmd_to_exec = sample_cmd.replace(git_username, upd_user+':'+upd_pass)\n",
    "sample_cmd_to_exec"
   ]
  },
  {
   "cell_type": "markdown",
   "metadata": {},
   "source": [
    "## Read the file containg \"git clone links\""
   ]
  },
  {
   "cell_type": "code",
   "execution_count": 4,
   "metadata": {},
   "outputs": [
    {
     "name": "stdout",
     "output_type": "stream",
     "text": [
      "\n",
      "Executing Command \"pwd\"\n",
      "Command sucessfully executed\n",
      "Output:\n",
      "----------------------------------------------------------------------------------------------------\n",
      "|\t/home/ubuntu/Documents/PersonalWorkSpace/MyGits/interaction_with_git\n",
      "|\t\n",
      "----------------------------------------------------------------------------------------------------\n",
      "['git clone https://github.com/MR901/interaction_with_git.git', 'git clone https://github.com/MR901/AIMA_AdversarialSearch.git']\n"
     ]
    }
   ],
   "source": [
    "### Read the file contaiing \"git clone links\"\n",
    "\n",
    "file_containing_git_clone_link_name =  'repo_link_input.txt'\n",
    "\n",
    "curr_dir_name = execute_command('pwd').split('\\n')[0]\n",
    "input_file_name = curr_dir_name + '/' + file_containing_git_clone_link_name\n",
    "\n",
    "f= open( input_file_name, 'r')\n",
    "txt = f.read()\n",
    "f.close()\n",
    "\n",
    "git_clone_cmd = txt.splitlines() # txt.split('\\n')\n",
    "git_cmd_to_exec = [ cmd.replace(git_username, upd_user+':'+upd_pass) for cmd in git_clone_cmd ] \n",
    "\n",
    "## Taking link and cleaning these too\n",
    "temp_dict = {}\n",
    "for ele in git_cmd_to_exec:\n",
    "    if ele in temp_dict:\n",
    "        temp_dict[ele] += 1\n",
    "    else:\n",
    "        temp_dict[ele] = 1\n",
    "\n",
    "git_cmd_to_exec = [ ele for ele in temp_dict.keys() if 'git' in ele ] \n",
    "\n",
    "print(git_cmd_to_exec[0:5])"
   ]
  },
  {
   "cell_type": "markdown",
   "metadata": {},
   "source": [
    "### Getting all the available branches in the repo and and create those folder and adjust the content accordingly"
   ]
  },
  {
   "cell_type": "code",
   "execution_count": 5,
   "metadata": {},
   "outputs": [
    {
     "name": "stdout",
     "output_type": "stream",
     "text": [
      "Path has been created : SS_GitRepos_SampleBackup\n",
      "\n",
      "New directory \"AIMA_AdversarialSearch\" is created. \n",
      "Current working directory path is \"/home/ubuntu/Documents/PersonalWorkSpace/MyGits/interaction_with_git/SS_GitRepos_SampleBackup/AIMA_AdversarialSearch\"\n",
      "\n",
      "Executing Command \"git clone https://github.com/MR901/AIMA_AdversarialSearch.git\"\n",
      "Command sucessfully executed\n",
      "\n",
      "New directory \"AIMA_AdversarialSearch\" is created. \\Current working directory path is \"/home/ubuntu/Documents/PersonalWorkSpace/MyGits/interaction_with_git/SS_GitRepos_SampleBackup/AIMA_AdversarialSearch/AIMA_AdversarialSearch\"\n",
      "\n",
      "Executing Command \"git branch -a\"\n",
      "Command sucessfully executed\n",
      "Output:\n",
      "----------------------------------------------------------------------------------------------------\n",
      "|\t* master\n",
      "|\t  remotes/origin/HEAD -> origin/master\n",
      "|\t  remotes/origin/master\n",
      "|\t\n",
      "----------------------------------------------------------------------------------------------------\n",
      "All the branches that are present :  ['master']\n",
      "\n",
      "0\tCurrently working on the branch : master\n",
      "\tRenaming the original repo folder name and changing the branch inside it.\n",
      "\n",
      "Executing Command \"git checkout master\"\n",
      "Command sucessfully executed\n",
      "Output:\n",
      "----------------------------------------------------------------------------------------------------\n",
      "|\tYour branch is up to date with 'origin/master'.\n",
      "|\t\n",
      "----------------------------------------------------------------------------------------------------\n"
     ]
    },
    {
     "data": {
      "text/plain": [
       "'CloneCmdCompleted'"
      ]
     },
     "execution_count": 5,
     "metadata": {},
     "output_type": "execute_result"
    }
   ],
   "source": [
    "def clone_repo_and_create_folder_for_branch(transf_git_clone_cmd, path_where_to_create = None):\n",
    "    '''\n",
    "    Input: Git Clone Command after special character in username and passsword has been Transformed\n",
    "    Output: \n",
    "        current folder ---+--> git folder1 +--> repo_branch1 +--> contents\n",
    "                          |                |--> repo_branch2 +--> contents\n",
    "                          |                |--> repo_branch3 +--> contents\n",
    "                          +--> git folder2 +--> repo_branch1 +--> contents\n",
    "                                           |--> repo_branch2 +--> contents\n",
    "                                           |--> repo_branch3 +--> contents\n",
    "    '''\n",
    "\n",
    "    ## creating a new/repo folder based on git name and going inside it \n",
    "    if path_where_to_create is not None:\n",
    "        if os.path.exists(path_where_to_create) is False:\n",
    "            print('Path has been created :', path_where_to_create)\n",
    "            os.mkdir(path_where_to_create)\n",
    "        os.chdir(path_where_to_create)\n",
    "    orig_dir = os.getcwd() #execute_command('pwd').split('\\n')[0]+'/'\n",
    "    git_folder_name = transf_git_clone_cmd.split('/')[-1].split('.')[0]\n",
    "    os.mkdir(git_folder_name)\n",
    "    git_dir = orig_dir +'/'+git_folder_name\n",
    "    os.chdir(git_dir)\n",
    "    print('\\nNew directory \"{}\" is created. \\nCurrent working directory path is \"{}\"'.format(git_folder_name, git_dir))\n",
    "\n",
    "    ## Cloning a repository and changing the w.d. to repo\n",
    "    content_prev = execute_command('ls',msg='off').split('\\n')\n",
    "    task_msg = execute_command(transf_git_clone_cmd)\n",
    "    if task_msg is 'TaskFailed': print('CloneCmdFailed'); return 'CloneCmdFailed'\n",
    "\n",
    "    repo_folder_name = [ con for con in execute_command('ls',msg='off').split('\\n') if con not in content_prev ][0]\n",
    "    repo_dir = os.getcwd() +'/'+ repo_folder_name\n",
    "    os.chdir(repo_dir)\n",
    "    print('\\nNew directory \"{}\" is created. \\Current working directory path is \"{}\"'.format(repo_folder_name, repo_dir))\n",
    "\n",
    "    ## Getting all the branch name\n",
    "    all_branches = execute_command('git branch -a').split('\\n')\n",
    "    all_branches = [ branch.split('/')[-1] for branch in all_branches if 'remotes/origin/' in branch and '->' not in branch ]\n",
    "    print('All the branches that are present : ', all_branches)\n",
    "\n",
    "    ## Creating folders wrt to the branch names\n",
    "    os.chdir(git_dir)\n",
    "    for i in range(len(all_branches)):\n",
    "        print('\\n'+str(i)+'\\tCurrently working on the branch :', all_branches[i])\n",
    "        repo_branch_name = repo_folder_name + '__br-' + all_branches[i]\n",
    "        if i+1 < len(all_branches):\n",
    "            print('\\tCreating a repo branch folder and pasting the content inside it. Also changing the branch inside it.')\n",
    "            os.mkdir(repo_branch_name)\n",
    "            execute_command('cp -r {0}/. {1}/.'.format(repo_folder_name, repo_branch_name))\n",
    "        else:\n",
    "            print('\\tRenaming the original repo folder name and changing the branch inside it.')\n",
    "            os.rename(repo_folder_name, repo_branch_name)\n",
    "\n",
    "    ## Changing the branches in each individual folder respectively\n",
    "    all_dir = os.listdir() ## current dir = git_dir\n",
    "    for wd in all_dir:\n",
    "        # change wd to the branch folder\n",
    "        os.chdir(git_dir+'/'+wd)\n",
    "        # change the branch\n",
    "        execute_command('git checkout {}'.format(wd.split('__br-')[-1]))\n",
    "    #     # change the wd back to actual ## no need since using absolute path\n",
    "    #     os.chdir(git_dir)\n",
    "\n",
    "    ## Changing the directory back to Original Dir\n",
    "    os.chdir(orig_dir)\n",
    "\n",
    "    '''\n",
    "    # ## Removing all the content from this directory <--- to independently create folder for each branch\n",
    "    # def delete_file_or_folder(path):\n",
    "    #     if os.path.isfile(path):\n",
    "    #         os.unlink(path) # os.remove(path)\n",
    "    #     else:\n",
    "    #         # os.rmdir(path) # for empty dir\n",
    "    #         shutil.rmtree(path) ## to delete all files inside the ddirectory too\n",
    "    # all_files = [ f for f in execute_command('ls -a').split('\\n') if f not in ['','.','..'] ]\n",
    "    # for path in all_files:\n",
    "    #     delete_file_or_folder(path)\n",
    "    # all_files = [ f for f in execute_command('ls -a','off').split('\\n') if f not in ['','.','..'] ]\n",
    "    # if len(all_files)<=3: print('Empty Directory : Directory has been cleaned fully.')\n",
    "    '''\n",
    "\n",
    "    return 'CloneCmdCompleted'\n",
    "\n",
    "## Sample Test\n",
    "download_where = 'SS_GitRepos_SampleBackup'\n",
    "# if os.path.exists(download_where):\n",
    "clone_repo_and_create_folder_for_branch(sample_cmd_to_exec, download_where)\n",
    "# else:\n",
    "#     print(\"path doesn't exist\")"
   ]
  },
  {
   "cell_type": "code",
   "execution_count": 6,
   "metadata": {},
   "outputs": [
    {
     "name": "stdout",
     "output_type": "stream",
     "text": [
      "Path has been created : /home/ubuntu/Documents/PersonalWorkSpace/MyGits/interaction_with_git/GitRepos_Backup_20190508\n",
      "\n",
      "New directory \"interaction_with_git\" is created. \n",
      "Current working directory path is \"/home/ubuntu/Documents/PersonalWorkSpace/MyGits/interaction_with_git/GitRepos_Backup_20190508/interaction_with_git\"\n",
      "\n",
      "Executing Command \"git clone https://github.com/MR901/interaction_with_git.git\"\n",
      "Command sucessfully executed\n",
      "\n",
      "New directory \"interaction_with_git\" is created. \\Current working directory path is \"/home/ubuntu/Documents/PersonalWorkSpace/MyGits/interaction_with_git/GitRepos_Backup_20190508/interaction_with_git/interaction_with_git\"\n",
      "\n",
      "Executing Command \"git branch -a\"\n",
      "Command sucessfully executed\n",
      "Output:\n",
      "----------------------------------------------------------------------------------------------------\n",
      "|\t* master\n",
      "|\t  remotes/origin/HEAD -> origin/master\n",
      "|\t  remotes/origin/master\n",
      "|\t\n",
      "----------------------------------------------------------------------------------------------------\n",
      "All the branches that are present :  ['master']\n",
      "\n",
      "0\tCurrently working on the branch : master\n",
      "\tRenaming the original repo folder name and changing the branch inside it.\n",
      "\n",
      "Executing Command \"git checkout master\"\n",
      "Command sucessfully executed\n",
      "Output:\n",
      "----------------------------------------------------------------------------------------------------\n",
      "|\tYour branch is up to date with 'origin/master'.\n",
      "|\t\n",
      "----------------------------------------------------------------------------------------------------\n",
      "\n",
      "New directory \"AIMA_AdversarialSearch\" is created. \n",
      "Current working directory path is \"/home/ubuntu/Documents/PersonalWorkSpace/MyGits/interaction_with_git/GitRepos_Backup_20190508/AIMA_AdversarialSearch\"\n",
      "\n",
      "Executing Command \"git clone https://github.com/MR901/AIMA_AdversarialSearch.git\"\n",
      "Command sucessfully executed\n",
      "\n",
      "New directory \"AIMA_AdversarialSearch\" is created. \\Current working directory path is \"/home/ubuntu/Documents/PersonalWorkSpace/MyGits/interaction_with_git/GitRepos_Backup_20190508/AIMA_AdversarialSearch/AIMA_AdversarialSearch\"\n",
      "\n",
      "Executing Command \"git branch -a\"\n",
      "Command sucessfully executed\n",
      "Output:\n",
      "----------------------------------------------------------------------------------------------------\n",
      "|\t* master\n",
      "|\t  remotes/origin/HEAD -> origin/master\n",
      "|\t  remotes/origin/master\n",
      "|\t\n",
      "----------------------------------------------------------------------------------------------------\n",
      "All the branches that are present :  ['master']\n",
      "\n",
      "0\tCurrently working on the branch : master\n",
      "\tRenaming the original repo folder name and changing the branch inside it.\n",
      "\n",
      "Executing Command \"git checkout master\"\n",
      "Command sucessfully executed\n",
      "Output:\n",
      "----------------------------------------------------------------------------------------------------\n",
      "|\tYour branch is up to date with 'origin/master'.\n",
      "|\t\n",
      "----------------------------------------------------------------------------------------------------\n"
     ]
    }
   ],
   "source": [
    "# download_where = '/home/mohit/Documents/MyGits/Interaction_with_git/SS_GitRepos_Backup_20190508'\n",
    "download_where = '/home/ubuntu/Documents/PersonalWorkSpace/MyGits/interaction_with_git/GitRepos_Backup_20190508'\n",
    "clone_cmd_failed, clone_cmd_success = [], []\n",
    "for cmd in git_cmd_to_exec:\n",
    "    try:\n",
    "        msg = clone_repo_and_create_folder_for_branch(cmd, download_where)\n",
    "        if msg is 'CloneCmdCompleted':\n",
    "            clone_cmd_success.append(cmd)\n",
    "        elif msg is 'CloneCmdFailed':\n",
    "            clone_cmd_failed.append(cmd)\n",
    "    except:\n",
    "        clone_cmd_failed.append(cmd)"
   ]
  },
  {
   "cell_type": "code",
   "execution_count": 7,
   "metadata": {},
   "outputs": [
    {
     "data": {
      "text/plain": [
       "['git clone https://github.com/MR901/interaction_with_git.git',\n",
       " 'git clone https://github.com/MR901/AIMA_AdversarialSearch.git']"
      ]
     },
     "execution_count": 7,
     "metadata": {},
     "output_type": "execute_result"
    }
   ],
   "source": [
    "clone_cmd_success"
   ]
  },
  {
   "cell_type": "code",
   "execution_count": 8,
   "metadata": {},
   "outputs": [
    {
     "data": {
      "text/plain": [
       "[]"
      ]
     },
     "execution_count": 8,
     "metadata": {},
     "output_type": "execute_result"
    }
   ],
   "source": [
    "clone_cmd_failed"
   ]
  },
  {
   "cell_type": "code",
   "execution_count": null,
   "metadata": {},
   "outputs": [],
   "source": []
  }
 ],
 "metadata": {
  "kernelspec": {
   "display_name": "MyOfficeEnv",
   "language": "python",
   "name": "myofficeenv"
  },
  "language_info": {
   "codemirror_mode": {
    "name": "ipython",
    "version": 3
   },
   "file_extension": ".py",
   "mimetype": "text/x-python",
   "name": "python",
   "nbconvert_exporter": "python",
   "pygments_lexer": "ipython3",
   "version": "3.6.7"
  }
 },
 "nbformat": 4,
 "nbformat_minor": 2
}
